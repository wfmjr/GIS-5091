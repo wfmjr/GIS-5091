{
 "cells": [
  {
   "cell_type": "code",
   "execution_count": 100,
   "metadata": {},
   "outputs": [
    {
     "name": "stdout",
     "output_type": "stream",
     "text": [
      "Enter password: ········\n"
     ]
    }
   ],
   "source": [
    "import os\n",
    "import pandas as pd\n",
    "from pandas import ExcelWriter\n",
    "from pandas import ExcelFile\n",
    "from arcgis.gis import GIS\n",
    "from arcgis.mapping import WebMap\n",
    "empty_webmap = WebMap()\n",
    "gis = GIS('https://slustl.maps.arcgis.com/home', 'wfmjr68')"
   ]
  },
  {
   "cell_type": "code",
   "execution_count": 101,
   "metadata": {},
   "outputs": [
    {
     "data": {
      "application/vnd.jupyter.widget-view+json": {
       "model_id": "2f745ccd0b354af192ebe70e24691a34",
       "version_major": 2,
       "version_minor": 0
      },
      "text/plain": [
       "MapView(basemaps=['dark-gray', 'dark-gray-vector', 'gray', 'gray-vector', 'hybrid', 'national-geographic', 'oc…"
      ]
     },
     "metadata": {},
     "output_type": "display_data"
    }
   ],
   "source": [
    "world_map = gis.map('World', zoomlevel=1)\n",
    "world_map"
   ]
  },
  {
   "cell_type": "code",
   "execution_count": 140,
   "metadata": {},
   "outputs": [
    {
     "ename": "TypeError",
     "evalue": "rename: dst should be string, bytes or os.PathLike, not NoneType",
     "output_type": "error",
     "traceback": [
      "\u001b[1;31m---------------------------------------------------------------------------\u001b[0m",
      "\u001b[1;31mTypeError\u001b[0m                                 Traceback (most recent call last)",
      "\u001b[1;32m<ipython-input-140-e0da0ef2e90c>\u001b[0m in \u001b[0;36m<module>\u001b[1;34m()\u001b[0m\n\u001b[0;32m      8\u001b[0m     \u001b[0mnewname\u001b[0m \u001b[1;33m=\u001b[0m \u001b[0mfile_no_ext\u001b[0m \u001b[1;33m+\u001b[0m \u001b[1;34m'.csv'\u001b[0m\u001b[1;33m\u001b[0m\u001b[0m\n\u001b[0;32m      9\u001b[0m     \u001b[0mcsv\u001b[0m \u001b[1;33m=\u001b[0m \u001b[0mdata\u001b[0m\u001b[1;33m.\u001b[0m\u001b[0mto_csv\u001b[0m\u001b[1;33m(\u001b[0m\u001b[0mnewname\u001b[0m\u001b[1;33m)\u001b[0m\u001b[1;33m\u001b[0m\u001b[0m\n\u001b[1;32m---> 10\u001b[1;33m     \u001b[0mos\u001b[0m\u001b[1;33m.\u001b[0m\u001b[0mrename\u001b[0m\u001b[1;33m(\u001b[0m\u001b[0moldname\u001b[0m\u001b[1;33m,\u001b[0m\u001b[0mcsv\u001b[0m\u001b[1;33m)\u001b[0m\u001b[1;33m\u001b[0m\u001b[0m\n\u001b[0m\u001b[0;32m     11\u001b[0m     \u001b[0mworld_map\u001b[0m\u001b[1;33m.\u001b[0m\u001b[0madd_layer\u001b[0m\u001b[1;33m(\u001b[0m\u001b[0mcsv\u001b[0m\u001b[1;33m,\u001b[0m \u001b[1;33m{\u001b[0m\u001b[1;34m\"renderer\"\u001b[0m\u001b[1;33m:\u001b[0m\u001b[1;34m\"ClassedSizeRenderer\"\u001b[0m\u001b[1;33m,\u001b[0m \u001b[1;34m\"field_name\"\u001b[0m\u001b[1;33m:\u001b[0m \u001b[1;34m\"Total\"\u001b[0m\u001b[1;33m}\u001b[0m\u001b[1;33m)\u001b[0m\u001b[1;33m\u001b[0m\u001b[0m\n\u001b[0;32m     12\u001b[0m     \u001b[0mcsv_item\u001b[0m \u001b[1;33m=\u001b[0m \u001b[0mgis\u001b[0m\u001b[1;33m.\u001b[0m\u001b[0mcontent\u001b[0m\u001b[1;33m.\u001b[0m\u001b[0madd\u001b[0m\u001b[1;33m(\u001b[0m\u001b[1;33m{\u001b[0m\u001b[1;33m}\u001b[0m\u001b[1;33m,\u001b[0m \u001b[0mcsv\u001b[0m\u001b[1;33m)\u001b[0m\u001b[1;33m\u001b[0m\u001b[0m\n",
      "\u001b[1;31mTypeError\u001b[0m: rename: dst should be string, bytes or os.PathLike, not NoneType"
     ]
    }
   ],
   "source": [
    "import glob\n",
    "folder = glob.glob('D:/GIS 5091/Project 2/*.xlsx')\n",
    "for file in folder:    \n",
    "    oldname = file\n",
    "    filename = os.path.basename(file)\n",
    "    data = pd.read_excel(filename)\n",
    "    file_no_ext = filename[4:8]\n",
    "    newname = file_no_ext + '.csv'\n",
    "    data.to_csv(newname)\n",
    "    os.rename(oldname,newname)\n",
    "    world_map.add_layer(newname, {\"renderer\":\"ClassedSizeRenderer\", \"field_name\": \"Total\"})\n",
    "    csv_item = gis.content.add({}, newname)\n",
    "    csv_layer = csv_item.publish(None, {\"Address\":\"Total\"})\n",
    "    empty_webmap.add_layer(csv_layer, options={'title':'FSI_' + file_no_ext})\n",
    "    webmap_item_properties = {'title':'Fragile States Index ' + file_no_ext,\n",
    "                            'snippet':'Map created using Fragile States Index.',\n",
    "                            'tags':['Fragile', 'States', 'Index']}\n",
    "\n",
    "    empty_webmap.save(webmap_item_properties, thumbnail='http://fundforpeace.org/fsi/wp-content/uploads/2018/04/slider-doha-1.png')"
   ]
  },
  {
   "cell_type": "code",
   "execution_count": null,
   "metadata": {},
   "outputs": [],
   "source": []
  }
 ],
 "metadata": {
  "kernelspec": {
   "display_name": "Python 3",
   "language": "python",
   "name": "python3"
  },
  "language_info": {
   "codemirror_mode": {
    "name": "ipython",
    "version": 3
   },
   "file_extension": ".py",
   "mimetype": "text/x-python",
   "name": "python",
   "nbconvert_exporter": "python",
   "pygments_lexer": "ipython3",
   "version": "3.6.5"
  }
 },
 "nbformat": 4,
 "nbformat_minor": 2
}
