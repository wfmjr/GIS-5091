{
 "cells": [
  {
   "cell_type": "markdown",
   "metadata": {},
   "source": [
    "# Project 2\n",
    "### Taking data from the Fragile States Index and creating a feature service for each year from 2006 to 2018."
   ]
  },
  {
   "cell_type": "markdown",
   "metadata": {},
   "source": [
    "#### Importing modules for use with the data and connect to ArcGIS Online."
   ]
  },
  {
   "cell_type": "code",
   "execution_count": 1,
   "metadata": {},
   "outputs": [
    {
     "name": "stdout",
     "output_type": "stream",
     "text": [
      "Enter password: ········\n"
     ]
    }
   ],
   "source": [
    "import glob, os\n",
    "import pandas as pd\n",
    "from arcgis.gis import GIS\n",
    "from arcgis.mapping import WebMap\n",
    "empty_webmap = WebMap()\n",
    "gis = GIS('https://slustl.maps.arcgis.com/home', 'wfmjr68')"
   ]
  },
  {
   "cell_type": "markdown",
   "metadata": {},
   "source": [
    "#### Go through each excel file and convert to a csv file to manage the data easier."
   ]
  },
  {
   "cell_type": "code",
   "execution_count": 2,
   "metadata": {},
   "outputs": [],
   "source": [
    "folder = glob.glob('D:/GIS 5091/Project 2/*.xlsx')\n",
    "for file in folder:    \n",
    "    xl_name = os.path.basename(file)\n",
    "    filename, file_extension = os.path.splitext(xl_name)\n",
    "    data = pd.read_excel(xl_name)\n",
    "    csv_name = filename + '.csv'\n",
    "    data.to_csv(csv_name)"
   ]
  },
  {
   "cell_type": "markdown",
   "metadata": {},
   "source": [
    "#### Loop through each newly created csv file above and change the name of each file. The name change will help to name each feature service layer when published to ArcGIS Online."
   ]
  },
  {
   "cell_type": "code",
   "execution_count": 3,
   "metadata": {},
   "outputs": [],
   "source": [
    "folder = glob.glob('D:/GIS 5091/Project 2/*.csv')\n",
    "for csv in folder:\n",
    "    oldname = os.path.basename(csv)\n",
    "    file_no_ext = oldname[4:8]\n",
    "    newname = file_no_ext + '.csv'\n",
    "    os.rename(oldname,newname)"
   ]
  },
  {
   "cell_type": "markdown",
   "metadata": {},
   "source": [
    "#### Loop through each csv and add it to ArcGIS online. Create a layer of the csv file to publish to ArcGIS Online."
   ]
  },
  {
   "cell_type": "code",
   "execution_count": 30,
   "metadata": {
    "scrolled": false
   },
   "outputs": [],
   "source": [
    "path = glob.glob('D:/GIS 5091/Project 2/*.csv')\n",
    "for item in path:\n",
    "    csv_file = os.path.basename(item)\n",
    "    filename, file_extension = os.path.splitext(csv_file)\n",
    "    csv_item = gis.content.add({}, item)\n",
    "    #csv_layer = csv_item.publish(None, {\"Address\":\"Country\"})\n",
    "    "
   ]
  },
  {
   "cell_type": "markdown",
   "metadata": {},
   "source": [
    "The commented out line in the above cell is creating an error uncommented. Otherwise the loop adds all csv files to ArcGIS Online."
   ]
  }
 ],
 "metadata": {
  "kernelspec": {
   "display_name": "Python 3",
   "language": "python",
   "name": "python3"
  },
  "language_info": {
   "codemirror_mode": {
    "name": "ipython",
    "version": 3
   },
   "file_extension": ".py",
   "mimetype": "text/x-python",
   "name": "python",
   "nbconvert_exporter": "python",
   "pygments_lexer": "ipython3",
   "version": "3.6.5"
  }
 },
 "nbformat": 4,
 "nbformat_minor": 2
}
