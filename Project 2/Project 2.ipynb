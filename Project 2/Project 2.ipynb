{
 "cells": [
  {
   "cell_type": "code",
   "execution_count": 47,
   "metadata": {},
   "outputs": [
    {
     "name": "stdout",
     "output_type": "stream",
     "text": [
      "Enter password: ········\n"
     ]
    }
   ],
   "source": [
    "import glob, os\n",
    "import pandas as pd\n",
    "from arcgis.gis import GIS\n",
    "from arcgis.mapping import WebMap\n",
    "empty_webmap = WebMap()\n",
    "gis = GIS('https://slustl.maps.arcgis.com/home', 'wfmjr68')"
   ]
  },
  {
   "cell_type": "code",
   "execution_count": 117,
   "metadata": {},
   "outputs": [],
   "source": [
    "folder = glob.glob('D:/GIS 5091/Project 2/*.xlsx')\n",
    "for file in folder:    \n",
    "    xl_name = os.path.basename(file)\n",
    "    filename, file_extension = os.path.splitext(xl_name)\n",
    "    data = pd.read_excel(xl_name)\n",
    "    csv_name = filename + '.csv'\n",
    "    data.to_csv(csv_name)"
   ]
  },
  {
   "cell_type": "code",
   "execution_count": 118,
   "metadata": {},
   "outputs": [
    {
     "name": "stdout",
     "output_type": "stream",
     "text": [
      "fsi-2006.csv\n",
      "2006.csv\n",
      "fsi-2007.csv\n",
      "2007.csv\n",
      "fsi-2008.csv\n",
      "2008.csv\n",
      "fsi-2009.csv\n",
      "2009.csv\n",
      "fsi-2010.csv\n",
      "2010.csv\n",
      "fsi-2011.csv\n",
      "2011.csv\n",
      "fsi-2012.csv\n",
      "2012.csv\n",
      "fsi-2013.csv\n",
      "2013.csv\n",
      "fsi-2014.csv\n",
      "2014.csv\n",
      "fsi-2015.csv\n",
      "2015.csv\n",
      "fsi-2016.csv\n",
      "2016.csv\n",
      "fsi-2017.csv\n",
      "2017.csv\n",
      "fsi-2018.csv\n",
      "2018.csv\n"
     ]
    }
   ],
   "source": [
    "folder = glob.glob('D:/GIS 5091/Project 2/*.csv')\n",
    "for csv in folder:\n",
    "    oldname = os.path.basename(csv)\n",
    "    file_no_ext = oldname[4:8]\n",
    "    newname = file_no_ext + '.csv'\n",
    "    os.rename(oldname,newname)"
   ]
  },
  {
   "cell_type": "code",
   "execution_count": 159,
   "metadata": {},
   "outputs": [
    {
     "name": "stdout",
     "output_type": "stream",
     "text": [
      "D:/GIS 5091/Project 2\\2006.csv\n"
     ]
    },
    {
     "name": "stderr",
     "output_type": "stream",
     "text": [
      "Item '2006.csv' already exists.\n"
     ]
    },
    {
     "ename": "RuntimeError",
     "evalue": "Item '2006.csv' already exists.\n(Error Code: 409)",
     "output_type": "error",
     "traceback": [
      "\u001b[1;31m---------------------------------------------------------------------------\u001b[0m",
      "\u001b[1;31mRuntimeError\u001b[0m                              Traceback (most recent call last)",
      "\u001b[1;32m<ipython-input-159-540363c67200>\u001b[0m in \u001b[0;36m<module>\u001b[1;34m()\u001b[0m\n\u001b[0;32m      4\u001b[0m     \u001b[0mcsv_file\u001b[0m \u001b[1;33m=\u001b[0m \u001b[0mos\u001b[0m\u001b[1;33m.\u001b[0m\u001b[0mpath\u001b[0m\u001b[1;33m.\u001b[0m\u001b[0mbasename\u001b[0m\u001b[1;33m(\u001b[0m\u001b[0mitem\u001b[0m\u001b[1;33m)\u001b[0m\u001b[1;33m\u001b[0m\u001b[0m\n\u001b[0;32m      5\u001b[0m     \u001b[0mdf\u001b[0m \u001b[1;33m=\u001b[0m \u001b[0mpd\u001b[0m\u001b[1;33m.\u001b[0m\u001b[0mread_csv\u001b[0m\u001b[1;33m(\u001b[0m\u001b[0mcsv_file\u001b[0m\u001b[1;33m)\u001b[0m\u001b[1;33m\u001b[0m\u001b[0m\n\u001b[1;32m----> 6\u001b[1;33m     \u001b[0mcsv_item\u001b[0m \u001b[1;33m=\u001b[0m \u001b[0mgis\u001b[0m\u001b[1;33m.\u001b[0m\u001b[0mcontent\u001b[0m\u001b[1;33m.\u001b[0m\u001b[0madd\u001b[0m\u001b[1;33m(\u001b[0m\u001b[1;33m{\u001b[0m\u001b[1;33m}\u001b[0m\u001b[1;33m,\u001b[0m \u001b[0mcsv_file\u001b[0m\u001b[1;33m)\u001b[0m\u001b[1;33m\u001b[0m\u001b[0m\n\u001b[0m\u001b[0;32m      7\u001b[0m     \u001b[0mcsv_layer\u001b[0m \u001b[1;33m=\u001b[0m \u001b[0mcsv_item\u001b[0m\u001b[1;33m.\u001b[0m\u001b[0mpublish\u001b[0m\u001b[1;33m(\u001b[0m\u001b[1;32mNone\u001b[0m\u001b[1;33m,\u001b[0m \u001b[1;33m{\u001b[0m\u001b[1;34m\"Address\"\u001b[0m\u001b[1;33m:\u001b[0m\u001b[1;34m\"Country\"\u001b[0m\u001b[1;33m}\u001b[0m\u001b[1;33m)\u001b[0m\u001b[1;33m\u001b[0m\u001b[0m\n\u001b[0;32m      8\u001b[0m     '''empty_webmap.add_layer(csv_layer, options={'title':'FSI_' + file_no_ext})\n",
      "\u001b[1;32m~\\AppData\\Local\\Programs\\ArcGIS\\Pro\\bin\\Python\\envs\\arcgispro-py3\\lib\\site-packages\\arcgis\\gis\\__init__.py\u001b[0m in \u001b[0;36madd\u001b[1;34m(self, item_properties, data, thumbnail, metadata, owner, folder)\u001b[0m\n\u001b[0;32m   2399\u001b[0m                 \u001b[0mitem_properties\u001b[0m\u001b[1;33m[\u001b[0m\u001b[1;34m'tags'\u001b[0m\u001b[1;33m]\u001b[0m \u001b[1;33m=\u001b[0m \u001b[1;34m\",\"\u001b[0m\u001b[1;33m.\u001b[0m\u001b[0mjoin\u001b[0m\u001b[1;33m(\u001b[0m\u001b[0mitem_properties\u001b[0m\u001b[1;33m[\u001b[0m\u001b[1;34m'tags'\u001b[0m\u001b[1;33m]\u001b[0m\u001b[1;33m)\u001b[0m\u001b[1;33m\u001b[0m\u001b[0m\n\u001b[0;32m   2400\u001b[0m \u001b[1;33m\u001b[0m\u001b[0m\n\u001b[1;32m-> 2401\u001b[1;33m         \u001b[0mitemid\u001b[0m \u001b[1;33m=\u001b[0m \u001b[0mself\u001b[0m\u001b[1;33m.\u001b[0m\u001b[0m_portal\u001b[0m\u001b[1;33m.\u001b[0m\u001b[0madd_item\u001b[0m\u001b[1;33m(\u001b[0m\u001b[0mitem_properties\u001b[0m\u001b[1;33m,\u001b[0m \u001b[0mdata\u001b[0m\u001b[1;33m,\u001b[0m \u001b[0mthumbnail\u001b[0m\u001b[1;33m,\u001b[0m \u001b[0mmetadata\u001b[0m\u001b[1;33m,\u001b[0m \u001b[0mowner_name\u001b[0m\u001b[1;33m,\u001b[0m \u001b[0mfolder\u001b[0m\u001b[1;33m)\u001b[0m\u001b[1;33m\u001b[0m\u001b[0m\n\u001b[0m\u001b[0;32m   2402\u001b[0m \u001b[1;33m\u001b[0m\u001b[0m\n\u001b[0;32m   2403\u001b[0m         \u001b[1;32mif\u001b[0m \u001b[0mitemid\u001b[0m \u001b[1;32mis\u001b[0m \u001b[1;32mnot\u001b[0m \u001b[1;32mNone\u001b[0m\u001b[1;33m:\u001b[0m\u001b[1;33m\u001b[0m\u001b[0m\n",
      "\u001b[1;32m~\\AppData\\Local\\Programs\\ArcGIS\\Pro\\bin\\Python\\envs\\arcgispro-py3\\lib\\site-packages\\arcgis\\_impl\\portalpy.py\u001b[0m in \u001b[0;36madd_item\u001b[1;34m(self, item_properties, data, thumbnail, metadata, owner, folder)\u001b[0m\n\u001b[0;32m    318\u001b[0m \u001b[1;33m\u001b[0m\u001b[0m\n\u001b[0;32m    319\u001b[0m         \u001b[0mpath\u001b[0m \u001b[1;33m+=\u001b[0m \u001b[1;34m'/addItem'\u001b[0m\u001b[1;33m\u001b[0m\u001b[0m\n\u001b[1;32m--> 320\u001b[1;33m         \u001b[0mresp\u001b[0m \u001b[1;33m=\u001b[0m \u001b[0mself\u001b[0m\u001b[1;33m.\u001b[0m\u001b[0mcon\u001b[0m\u001b[1;33m.\u001b[0m\u001b[0mpost\u001b[0m\u001b[1;33m(\u001b[0m\u001b[0mpath\u001b[0m\u001b[1;33m,\u001b[0m \u001b[0mpostdata\u001b[0m\u001b[1;33m,\u001b[0m \u001b[0mfiles\u001b[0m\u001b[1;33m)\u001b[0m\u001b[1;33m\u001b[0m\u001b[0m\n\u001b[0m\u001b[0;32m    321\u001b[0m         \u001b[1;32mif\u001b[0m \u001b[0mresp\u001b[0m \u001b[1;32mand\u001b[0m \u001b[0mresp\u001b[0m\u001b[1;33m.\u001b[0m\u001b[0mget\u001b[0m\u001b[1;33m(\u001b[0m\u001b[1;34m'success'\u001b[0m\u001b[1;33m)\u001b[0m\u001b[1;33m:\u001b[0m\u001b[1;33m\u001b[0m\u001b[0m\n\u001b[0;32m    322\u001b[0m             \u001b[1;32mreturn\u001b[0m \u001b[0mresp\u001b[0m\u001b[1;33m[\u001b[0m\u001b[1;34m'id'\u001b[0m\u001b[1;33m]\u001b[0m\u001b[1;33m\u001b[0m\u001b[0m\n",
      "\u001b[1;32m~\\AppData\\Local\\Programs\\ArcGIS\\Pro\\bin\\Python\\envs\\arcgispro-py3\\lib\\site-packages\\arcgis\\_impl\\connection.py\u001b[0m in \u001b[0;36mpost\u001b[1;34m(self, path, postdata, files, ssl, compress, is_retry, use_ordered_dict, add_token, verify_cert, token, try_json, out_folder, file_name, force_bytes, add_headers)\u001b[0m\n\u001b[0;32m   1154\u001b[0m                                          verify_cert=verify_cert, is_retry=True)\n\u001b[0;32m   1155\u001b[0m \u001b[1;33m\u001b[0m\u001b[0m\n\u001b[1;32m-> 1156\u001b[1;33m                 \u001b[0mself\u001b[0m\u001b[1;33m.\u001b[0m\u001b[0m_handle_json_error\u001b[0m\u001b[1;33m(\u001b[0m\u001b[0mresp_json\u001b[0m\u001b[1;33m[\u001b[0m\u001b[1;34m'error'\u001b[0m\u001b[1;33m]\u001b[0m\u001b[1;33m,\u001b[0m \u001b[0merrorcode\u001b[0m\u001b[1;33m)\u001b[0m\u001b[1;33m\u001b[0m\u001b[0m\n\u001b[0m\u001b[0;32m   1157\u001b[0m                 \u001b[1;32mreturn\u001b[0m \u001b[1;32mNone\u001b[0m\u001b[1;33m\u001b[0m\u001b[0m\n\u001b[0;32m   1158\u001b[0m \u001b[1;33m\u001b[0m\u001b[0m\n",
      "\u001b[1;32m~\\AppData\\Local\\Programs\\ArcGIS\\Pro\\bin\\Python\\envs\\arcgispro-py3\\lib\\site-packages\\arcgis\\_impl\\connection.py\u001b[0m in \u001b[0;36m_handle_json_error\u001b[1;34m(self, error, errorcode)\u001b[0m\n\u001b[0;32m   1175\u001b[0m \u001b[1;33m\u001b[0m\u001b[0m\n\u001b[0;32m   1176\u001b[0m         \u001b[0merrormessage\u001b[0m \u001b[1;33m=\u001b[0m \u001b[0merrormessage\u001b[0m \u001b[1;33m+\u001b[0m \u001b[1;34m\"\\n(Error Code: \"\u001b[0m \u001b[1;33m+\u001b[0m \u001b[0mstr\u001b[0m\u001b[1;33m(\u001b[0m\u001b[0merrorcode\u001b[0m\u001b[1;33m)\u001b[0m \u001b[1;33m+\u001b[0m\u001b[1;34m\")\"\u001b[0m\u001b[1;33m\u001b[0m\u001b[0m\n\u001b[1;32m-> 1177\u001b[1;33m         \u001b[1;32mraise\u001b[0m \u001b[0mRuntimeError\u001b[0m\u001b[1;33m(\u001b[0m\u001b[0merrormessage\u001b[0m\u001b[1;33m)\u001b[0m\u001b[1;33m\u001b[0m\u001b[0m\n\u001b[0m\u001b[0;32m   1178\u001b[0m \u001b[1;33m\u001b[0m\u001b[0m\n\u001b[0;32m   1179\u001b[0m \u001b[1;32mclass\u001b[0m \u001b[0m_StrictURLopener\u001b[0m\u001b[1;33m(\u001b[0m\u001b[0mrequest\u001b[0m\u001b[1;33m.\u001b[0m\u001b[0mFancyURLopener\u001b[0m\u001b[1;33m)\u001b[0m\u001b[1;33m:\u001b[0m\u001b[1;33m\u001b[0m\u001b[0m\n",
      "\u001b[1;31mRuntimeError\u001b[0m: Item '2006.csv' already exists.\n(Error Code: 409)"
     ]
    }
   ],
   "source": [
    "path = glob.glob('D:/GIS 5091/Project 2/*.csv')\n",
    "for item in path:\n",
    "    print(item)\n",
    "    csv_file = os.path.basename(item)\n",
    "    df = pd.read_csv(csv_file)\n",
    "    csv_item = gis.content.add({}, csv_file)\n",
    "    csv_layer = csv_item.publish(None, {\"Address\":\"Country\"})\n",
    "    '''empty_webmap.add_layer(csv_layer, options={'title':'FSI_' + file_no_ext})\n",
    "    webmap_item_properties = {'title':'Fragile States Index ' + file_no_ext,\n",
    "                                'snippet':'Map created using Fragile States Index.',\n",
    "                                'tags':['Fragile', 'States', 'Index']}\n",
    "\n",
    "    empty_webmap.save(webmap_item_properties, thumbnail='http://fundforpeace.org/fsi/wp-content/uploads/2018/04/slider-doha-1.png')\n",
    "    '''"
   ]
  },
  {
   "cell_type": "code",
   "execution_count": 150,
   "metadata": {},
   "outputs": [
    {
     "data": {
      "application/vnd.jupyter.widget-view+json": {
       "model_id": "879010479b1742d08dfc40ca87dc1c49",
       "version_major": 2,
       "version_minor": 0
      },
      "text/plain": [
       "MapView(basemaps=['dark-gray', 'dark-gray-vector', 'gray', 'gray-vector', 'hybrid', 'national-geographic', 'oc…"
      ]
     },
     "metadata": {},
     "output_type": "display_data"
    }
   ],
   "source": [
    "world_map = gis.map()\n",
    "world_map"
   ]
  },
  {
   "cell_type": "code",
   "execution_count": 153,
   "metadata": {},
   "outputs": [
    {
     "ename": "NameError",
     "evalue": "name 'csv_layer' is not defined",
     "output_type": "error",
     "traceback": [
      "\u001b[1;31m---------------------------------------------------------------------------\u001b[0m",
      "\u001b[1;31mNameError\u001b[0m                                 Traceback (most recent call last)",
      "\u001b[1;32m<ipython-input-153-d5db34b5e50e>\u001b[0m in \u001b[0;36m<module>\u001b[1;34m()\u001b[0m\n\u001b[1;32m----> 1\u001b[1;33m \u001b[0mworld_map\u001b[0m\u001b[1;33m.\u001b[0m\u001b[0madd_layer\u001b[0m\u001b[1;33m(\u001b[0m\u001b[0mcsv_layer\u001b[0m\u001b[1;33m,\u001b[0m\u001b[1;33m{\u001b[0m \u001b[1;34m\"renderer\"\u001b[0m\u001b[1;33m:\u001b[0m\u001b[1;34m\"ClassedSizeRenderer\"\u001b[0m\u001b[1;33m,\u001b[0m \u001b[1;34m\"field_name\"\u001b[0m\u001b[1;33m:\u001b[0m\u001b[1;34m\"Total\"\u001b[0m \u001b[1;33m}\u001b[0m\u001b[1;33m)\u001b[0m\u001b[1;33m\u001b[0m\u001b[0m\n\u001b[0m",
      "\u001b[1;31mNameError\u001b[0m: name 'csv_layer' is not defined"
     ]
    }
   ],
   "source": [
    "world_map.add_layer(csv_layer,{ \"renderer\":\"ClassedSizeRenderer\", \"field_name\":\"Total\" })"
   ]
  },
  {
   "cell_type": "code",
   "execution_count": null,
   "metadata": {},
   "outputs": [],
   "source": []
  }
 ],
 "metadata": {
  "kernelspec": {
   "display_name": "Python 3",
   "language": "python",
   "name": "python3"
  },
  "language_info": {
   "codemirror_mode": {
    "name": "ipython",
    "version": 3
   },
   "file_extension": ".py",
   "mimetype": "text/x-python",
   "name": "python",
   "nbconvert_exporter": "python",
   "pygments_lexer": "ipython3",
   "version": "3.6.5"
  }
 },
 "nbformat": 4,
 "nbformat_minor": 2
}
