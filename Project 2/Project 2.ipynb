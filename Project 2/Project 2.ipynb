{
 "cells": [
  {
   "cell_type": "code",
   "execution_count": 47,
   "metadata": {},
   "outputs": [
    {
     "name": "stdout",
     "output_type": "stream",
     "text": [
      "Enter password: ········\n"
     ]
    }
   ],
   "source": [
    "import glob, os\n",
    "import pandas as pd\n",
    "from arcgis.gis import GIS\n",
    "from arcgis.mapping import WebMap\n",
    "empty_webmap = WebMap()\n",
    "gis = GIS('https://slustl.maps.arcgis.com/home', 'wfmjr68')"
   ]
  },
  {
   "cell_type": "code",
   "execution_count": 53,
   "metadata": {},
   "outputs": [
    {
     "data": {
      "application/vnd.jupyter.widget-view+json": {
       "model_id": "cf1e71e1a36d40f09855b143c3a2a216",
       "version_major": 2,
       "version_minor": 0
      },
      "text/plain": [
       "MapView(basemaps=['dark-gray', 'dark-gray-vector', 'gray', 'gray-vector', 'hybrid', 'national-geographic', 'oc…"
      ]
     },
     "metadata": {},
     "output_type": "display_data"
    }
   ],
   "source": [
    "world_map = gis.map()\n",
    "world_map"
   ]
  },
  {
   "cell_type": "code",
   "execution_count": 75,
   "metadata": {},
   "outputs": [
    {
     "name": "stdout",
     "output_type": "stream",
     "text": [
      "['D:/GIS 5091/Project 2\\\\fsi-2006.xlsx', 'D:/GIS 5091/Project 2\\\\fsi-2007.xlsx', 'D:/GIS 5091/Project 2\\\\fsi-2008.xlsx', 'D:/GIS 5091/Project 2\\\\fsi-2009.xlsx', 'D:/GIS 5091/Project 2\\\\fsi-2010.xlsx', 'D:/GIS 5091/Project 2\\\\fsi-2011.xlsx', 'D:/GIS 5091/Project 2\\\\fsi-2012.xlsx', 'D:/GIS 5091/Project 2\\\\fsi-2013.xlsx', 'D:/GIS 5091/Project 2\\\\fsi-2014.xlsx', 'D:/GIS 5091/Project 2\\\\fsi-2015.xlsx', 'D:/GIS 5091/Project 2\\\\fsi-2016.xlsx', 'D:/GIS 5091/Project 2\\\\fsi-2017.xlsx', 'D:/GIS 5091/Project 2\\\\fsi-2018.xlsx']\n",
      "2006.csv\n",
      "2006.csv\n",
      "2006.csv\n",
      "2006.csv\n",
      "2006.csv\n",
      "2006.csv\n",
      "2006.csv\n",
      "2006.csv\n",
      "2006.csv\n",
      "2006.csv\n",
      "2006.csv\n",
      "2006.csv\n",
      "2006.csv\n"
     ]
    }
   ],
   "source": [
    "folder = glob.glob('D:/GIS 5091/Project 2/*.xlsx')\n",
    "for file in folder:    \n",
    "    oldname = os.path.basename(file)\n",
    "    data = pd.read_excel(oldname)\n",
    "    file_no_ext = filename[4:8]\n",
    "    newname = file_no_ext + '.csv'\n",
    "    data.to_csv(newname)\n",
    "    print(newname)\n",
    "    ##os.rename(oldname,newname)\n",
    "    ##world_map.add_layer(newname, {\"renderer\":\"ClassedSizeRenderer\", \"field_name\": \"Total\"})\n",
    "    ##csv_item = gis.content.add({}, newname)\n",
    "    ##csv_layer = csv_item.publish(None, {\"Address\":\"Total\"})\n",
    "    ##empty_webmap.add_layer(csv_layer, options={'title':'FSI_' + file_no_ext})\n",
    "    ##webmap_item_properties = {'title':'Fragile States Index ' + file_no_ext,\n",
    "                            ##'snippet':'Map created using Fragile States Index.',\n",
    "                            ##'tags':['Fragile', 'States', 'Index']}\n",
    "\n",
    "    ##empty_webmap.save(webmap_item_properties, thumbnail='http://fundforpeace.org/fsi/wp-content/uploads/2018/04/slider-doha-1.png')"
   ]
  },
  {
   "cell_type": "code",
   "execution_count": null,
   "metadata": {},
   "outputs": [],
   "source": []
  }
 ],
 "metadata": {
  "kernelspec": {
   "display_name": "Python 3",
   "language": "python",
   "name": "python3"
  },
  "language_info": {
   "codemirror_mode": {
    "name": "ipython",
    "version": 3
   },
   "file_extension": ".py",
   "mimetype": "text/x-python",
   "name": "python",
   "nbconvert_exporter": "python",
   "pygments_lexer": "ipython3",
   "version": "3.6.5"
  }
 },
 "nbformat": 4,
 "nbformat_minor": 2
}
