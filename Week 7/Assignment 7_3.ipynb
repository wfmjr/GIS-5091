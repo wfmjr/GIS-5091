{
 "cells": [
  {
   "cell_type": "code",
   "execution_count": 3,
   "metadata": {},
   "outputs": [
    {
     "name": "stdout",
     "output_type": "stream",
     "text": [
      "Enter password: ········\n"
     ]
    }
   ],
   "source": [
    "from arcgis.gis import GIS\n",
    "gis = GIS('https://slustl.maps.arcgis.com/home', 'wfmjr68')"
   ]
  },
  {
   "cell_type": "code",
   "execution_count": 4,
   "metadata": {},
   "outputs": [],
   "source": [
    "import os\n",
    "crime_oldname = 'STL_Crime.gdb.zip'\n",
    "crime = 'stl_crime_wfm.gdb.zip'\n",
    "\n",
    "os.rename(crime_oldname, crime)"
   ]
  },
  {
   "cell_type": "code",
   "execution_count": 5,
   "metadata": {},
   "outputs": [],
   "source": [
    "wards_oldname = 'nbrhds_wards.zip'\n",
    "wards = 'nbrhds_wards_wfm.zip'\n",
    "\n",
    "os.rename(wards_oldname, wards)"
   ]
  },
  {
   "cell_type": "code",
   "execution_count": 11,
   "metadata": {},
   "outputs": [],
   "source": [
    "crime_stl = gis.content.add({'title':'St. Louis Crime Data WFM', 'tags':'Crimes'}, crime)\n",
    "wards_stl = gis.content.add({'title':'St. Louis Neighborhoods WFM', 'tags':'Wards'}, wards)"
   ]
  },
  {
   "cell_type": "code",
   "execution_count": 12,
   "metadata": {},
   "outputs": [],
   "source": [
    "published_crime_stl = crime_stl.publish()\n",
    "published_ward_stl = wards_stl.publish()"
   ]
  },
  {
   "cell_type": "code",
   "execution_count": 14,
   "metadata": {},
   "outputs": [
    {
     "data": {
      "text/plain": [
       "{'notSharedWith': [], 'itemId': '34c1f302c0a446ee86622ecfd68dcda8'}"
      ]
     },
     "execution_count": 14,
     "metadata": {},
     "output_type": "execute_result"
    }
   ],
   "source": [
    "published_crime_stl.share(org = True)\n",
    "published_ward_stl.share(org = True)"
   ]
  },
  {
   "cell_type": "code",
   "execution_count": null,
   "metadata": {},
   "outputs": [],
   "source": []
  }
 ],
 "metadata": {
  "kernelspec": {
   "display_name": "Python 3",
   "language": "python",
   "name": "python3"
  },
  "language_info": {
   "codemirror_mode": {
    "name": "ipython",
    "version": 3
   },
   "file_extension": ".py",
   "mimetype": "text/x-python",
   "name": "python",
   "nbconvert_exporter": "python",
   "pygments_lexer": "ipython3",
   "version": "3.6.5"
  }
 },
 "nbformat": 4,
 "nbformat_minor": 2
}
