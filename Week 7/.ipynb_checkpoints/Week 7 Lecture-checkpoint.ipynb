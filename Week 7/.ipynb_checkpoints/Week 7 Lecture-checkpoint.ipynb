{
 "cells": [
  {
   "cell_type": "code",
   "execution_count": 1,
   "metadata": {},
   "outputs": [
    {
     "name": "stdout",
     "output_type": "stream",
     "text": [
      "Enter password: ········\n"
     ]
    }
   ],
   "source": [
    "from arcgis.gis import GIS\n",
    "gis = GIS('https://slustl.maps.arcgis.com/home', 'wfmjr68')"
   ]
  },
  {
   "cell_type": "code",
   "execution_count": 3,
   "metadata": {},
   "outputs": [],
   "source": [
    "import os\n",
    "data_oldname = 'stl_boundary_wfm.zip'\n",
    "data = 'stl_boundary_wfm_v2.zip'\n",
    "\n",
    "os.rename(data_oldname, data)"
   ]
  },
  {
   "cell_type": "code",
   "execution_count": 4,
   "metadata": {},
   "outputs": [],
   "source": [
    "stl = gis.content.add({'title':'St. Louis Boundary WFM', 'tags':'St. Louis'}, data)"
   ]
  },
  {
   "cell_type": "code",
   "execution_count": 5,
   "metadata": {},
   "outputs": [],
   "source": [
    "published_stl = stl.publish()"
   ]
  },
  {
   "cell_type": "code",
   "execution_count": 10,
   "metadata": {},
   "outputs": [
    {
     "data": {
      "text/plain": [
       "{'notSharedWith': [], 'itemId': '0b2f018681934160971d3a42350cff6a'}"
      ]
     },
     "execution_count": 10,
     "metadata": {},
     "output_type": "execute_result"
    }
   ],
   "source": [
    "published_stl.share(org = True)"
   ]
  },
  {
   "cell_type": "code",
   "execution_count": null,
   "metadata": {},
   "outputs": [],
   "source": []
  },
  {
   "cell_type": "code",
   "execution_count": 11,
   "metadata": {},
   "outputs": [
    {
     "ename": "NameError",
     "evalue": "name 'stl_map' is not defined",
     "output_type": "error",
     "traceback": [
      "\u001b[1;31m---------------------------------------------------------------------------\u001b[0m",
      "\u001b[1;31mNameError\u001b[0m                                 Traceback (most recent call last)",
      "\u001b[1;32m<ipython-input-11-76b102e62259>\u001b[0m in \u001b[0;36m<module>\u001b[1;34m()\u001b[0m\n\u001b[1;32m----> 1\u001b[1;33m \u001b[0mstl_map\u001b[0m\u001b[1;33m.\u001b[0m\u001b[0madd_layer\u001b[0m\u001b[1;33m(\u001b[0m\u001b[0mpublished_stl\u001b[0m\u001b[1;33m)\u001b[0m\u001b[1;33m\u001b[0m\u001b[0m\n\u001b[0m",
      "\u001b[1;31mNameError\u001b[0m: name 'stl_map' is not defined"
     ]
    }
   ],
   "source": [
    "stl_map.add_layer(published_stl)"
   ]
  },
  {
   "cell_type": "code",
   "execution_count": 13,
   "metadata": {},
   "outputs": [],
   "source": [
    "streets_oldname = 'streets_wfm.zip'\n",
    "streets = 'streets_wfm_v2.zip'\n",
    "\n",
    "os.rename(streets_oldname, streets)"
   ]
  },
  {
   "cell_type": "code",
   "execution_count": 19,
   "metadata": {},
   "outputs": [],
   "source": [
    "streets_shp = gis.content.add({'title':'St. Louis Streets WFM', 'tags':'St. Louis'}, streets)"
   ]
  },
  {
   "cell_type": "code",
   "execution_count": 20,
   "metadata": {},
   "outputs": [],
   "source": [
    "published_streets = streets_shp.publish()"
   ]
  },
  {
   "cell_type": "code",
   "execution_count": 22,
   "metadata": {},
   "outputs": [
    {
     "data": {
      "text/plain": [
       "{'notSharedWith': [], 'itemId': 'c55ef360a8ec46998a1324f02cd0db2d'}"
      ]
     },
     "execution_count": 22,
     "metadata": {},
     "output_type": "execute_result"
    }
   ],
   "source": [
    "published_streets.share(org = True)"
   ]
  },
  {
   "cell_type": "code",
   "execution_count": 23,
   "metadata": {},
   "outputs": [],
   "source": [
    "from arcgis.features import FeatureLayer"
   ]
  },
  {
   "cell_type": "code",
   "execution_count": 36,
   "metadata": {},
   "outputs": [],
   "source": [
    "fl = FeatureLayer(published_streets.layers[1].url, gis=gis)"
   ]
  },
  {
   "cell_type": "code",
   "execution_count": 37,
   "metadata": {},
   "outputs": [],
   "source": [
    "fl_query_layer = fl.query()"
   ]
  },
  {
   "cell_type": "code",
   "execution_count": 38,
   "metadata": {},
   "outputs": [],
   "source": [
    "sdf = fl_query_layer.df"
   ]
  },
  {
   "cell_type": "code",
   "execution_count": 39,
   "metadata": {},
   "outputs": [
    {
     "data": {
      "text/html": [
       "<div>\n",
       "<style scoped>\n",
       "    .dataframe tbody tr th:only-of-type {\n",
       "        vertical-align: middle;\n",
       "    }\n",
       "\n",
       "    .dataframe tbody tr th {\n",
       "        vertical-align: top;\n",
       "    }\n",
       "\n",
       "    .dataframe thead th {\n",
       "        text-align: right;\n",
       "    }\n",
       "</style>\n",
       "<table border=\"1\" class=\"dataframe\">\n",
       "  <thead>\n",
       "    <tr style=\"text-align: right;\">\n",
       "      <th></th>\n",
       "      <th>ANGLE</th>\n",
       "      <th>CLASS</th>\n",
       "      <th>DISPLAY</th>\n",
       "      <th>EDITOR</th>\n",
       "      <th>FID</th>\n",
       "      <th>FROMLEFT</th>\n",
       "      <th>FROMRIGHT</th>\n",
       "      <th>HANDLE</th>\n",
       "      <th>NHD_NAME</th>\n",
       "      <th>NHD_NUM</th>\n",
       "      <th>...</th>\n",
       "      <th>STREETTYPE</th>\n",
       "      <th>SUFDIR</th>\n",
       "      <th>Shape__Length</th>\n",
       "      <th>TOLEFT</th>\n",
       "      <th>TORIGHT</th>\n",
       "      <th>UPDATED</th>\n",
       "      <th>WARD</th>\n",
       "      <th>ZCTA</th>\n",
       "      <th>ZIP_CODE</th>\n",
       "      <th>SHAPE</th>\n",
       "    </tr>\n",
       "  </thead>\n",
       "  <tbody>\n",
       "    <tr>\n",
       "      <th>0</th>\n",
       "      <td>0</td>\n",
       "      <td>A41</td>\n",
       "      <td>Y</td>\n",
       "      <td></td>\n",
       "      <td>1</td>\n",
       "      <td>-1</td>\n",
       "      <td>4000</td>\n",
       "      <td>1001204000</td>\n",
       "      <td>Penrose</td>\n",
       "      <td>69</td>\n",
       "      <td>...</td>\n",
       "      <td>BLVD</td>\n",
       "      <td></td>\n",
       "      <td>120.202951</td>\n",
       "      <td>-1</td>\n",
       "      <td>4030</td>\n",
       "      <td>NaN</td>\n",
       "      <td>1</td>\n",
       "      <td>63115</td>\n",
       "      <td>63115</td>\n",
       "      <td>{'paths': [[[-10046575.312456, 4675769.2060746...</td>\n",
       "    </tr>\n",
       "    <tr>\n",
       "      <th>1</th>\n",
       "      <td>0</td>\n",
       "      <td>A41</td>\n",
       "      <td>Y</td>\n",
       "      <td></td>\n",
       "      <td>2</td>\n",
       "      <td>2960</td>\n",
       "      <td>-1</td>\n",
       "      <td>1000402960</td>\n",
       "      <td>Midtown</td>\n",
       "      <td>37</td>\n",
       "      <td>...</td>\n",
       "      <td>ST</td>\n",
       "      <td></td>\n",
       "      <td>131.376770</td>\n",
       "      <td>2998</td>\n",
       "      <td>-1</td>\n",
       "      <td>NaN</td>\n",
       "      <td>6</td>\n",
       "      <td>63103</td>\n",
       "      <td>63103</td>\n",
       "      <td>{'paths': [[[-10043345.0593996, 4669462.182410...</td>\n",
       "    </tr>\n",
       "    <tr>\n",
       "      <th>2</th>\n",
       "      <td>0</td>\n",
       "      <td>A41</td>\n",
       "      <td>Y</td>\n",
       "      <td></td>\n",
       "      <td>3</td>\n",
       "      <td>-1</td>\n",
       "      <td>4100</td>\n",
       "      <td>1001204100</td>\n",
       "      <td>Penrose</td>\n",
       "      <td>69</td>\n",
       "      <td>...</td>\n",
       "      <td>BLVD</td>\n",
       "      <td></td>\n",
       "      <td>185.570672</td>\n",
       "      <td>-1</td>\n",
       "      <td>4140</td>\n",
       "      <td>NaN</td>\n",
       "      <td>1</td>\n",
       "      <td>63115</td>\n",
       "      <td>63115</td>\n",
       "      <td>{'paths': [[[-10046518.5975952, 4675875.188025...</td>\n",
       "    </tr>\n",
       "    <tr>\n",
       "      <th>3</th>\n",
       "      <td>0</td>\n",
       "      <td>A41</td>\n",
       "      <td>Y</td>\n",
       "      <td></td>\n",
       "      <td>4</td>\n",
       "      <td>3000</td>\n",
       "      <td>3001</td>\n",
       "      <td>1000403000</td>\n",
       "      <td>Midtown</td>\n",
       "      <td>37</td>\n",
       "      <td>...</td>\n",
       "      <td>ST</td>\n",
       "      <td></td>\n",
       "      <td>197.575282</td>\n",
       "      <td>3098</td>\n",
       "      <td>3099</td>\n",
       "      <td>NaN</td>\n",
       "      <td>6</td>\n",
       "      <td>63103</td>\n",
       "      <td>63103</td>\n",
       "      <td>{'paths': [[[-10043471.921728, 4669496.0203678...</td>\n",
       "    </tr>\n",
       "    <tr>\n",
       "      <th>4</th>\n",
       "      <td>0</td>\n",
       "      <td>A41</td>\n",
       "      <td>Y</td>\n",
       "      <td></td>\n",
       "      <td>5</td>\n",
       "      <td>4101</td>\n",
       "      <td>-2</td>\n",
       "      <td>1001204101</td>\n",
       "      <td>Mark Twain I-70 Industrial</td>\n",
       "      <td>70</td>\n",
       "      <td>...</td>\n",
       "      <td>BLVD</td>\n",
       "      <td></td>\n",
       "      <td>186.015803</td>\n",
       "      <td>4155</td>\n",
       "      <td>-2</td>\n",
       "      <td>NaN</td>\n",
       "      <td>22</td>\n",
       "      <td>63115</td>\n",
       "      <td>63115</td>\n",
       "      <td>{'paths': [[[-10046549.9565572, 4675892.387723...</td>\n",
       "    </tr>\n",
       "  </tbody>\n",
       "</table>\n",
       "<p>5 rows × 24 columns</p>\n",
       "</div>"
      ],
      "text/plain": [
       "   ANGLE CLASS DISPLAY EDITOR  FID  FROMLEFT  FROMRIGHT      HANDLE  \\\n",
       "0      0   A41       Y           1        -1       4000  1001204000   \n",
       "1      0   A41       Y           2      2960         -1  1000402960   \n",
       "2      0   A41       Y           3        -1       4100  1001204100   \n",
       "3      0   A41       Y           4      3000       3001  1000403000   \n",
       "4      0   A41       Y           5      4101         -2  1001204101   \n",
       "\n",
       "                     NHD_NAME  NHD_NUM  \\\n",
       "0                     Penrose       69   \n",
       "1                     Midtown       37   \n",
       "2                     Penrose       69   \n",
       "3                     Midtown       37   \n",
       "4  Mark Twain I-70 Industrial       70   \n",
       "\n",
       "                         ...                         STREETTYPE SUFDIR  \\\n",
       "0                        ...                               BLVD          \n",
       "1                        ...                                 ST          \n",
       "2                        ...                               BLVD          \n",
       "3                        ...                                 ST          \n",
       "4                        ...                               BLVD          \n",
       "\n",
       "  Shape__Length TOLEFT TORIGHT UPDATED  WARD   ZCTA  ZIP_CODE  \\\n",
       "0    120.202951     -1    4030     NaN     1  63115     63115   \n",
       "1    131.376770   2998      -1     NaN     6  63103     63103   \n",
       "2    185.570672     -1    4140     NaN     1  63115     63115   \n",
       "3    197.575282   3098    3099     NaN     6  63103     63103   \n",
       "4    186.015803   4155      -2     NaN    22  63115     63115   \n",
       "\n",
       "                                               SHAPE  \n",
       "0  {'paths': [[[-10046575.312456, 4675769.2060746...  \n",
       "1  {'paths': [[[-10043345.0593996, 4669462.182410...  \n",
       "2  {'paths': [[[-10046518.5975952, 4675875.188025...  \n",
       "3  {'paths': [[[-10043471.921728, 4669496.0203678...  \n",
       "4  {'paths': [[[-10046549.9565572, 4675892.387723...  \n",
       "\n",
       "[5 rows x 24 columns]"
      ]
     },
     "execution_count": 39,
     "metadata": {},
     "output_type": "execute_result"
    }
   ],
   "source": [
    "sdf.head()"
   ]
  },
  {
   "cell_type": "code",
   "execution_count": 40,
   "metadata": {},
   "outputs": [
    {
     "data": {
      "text/plain": [
       "555"
      ]
     },
     "execution_count": 40,
     "metadata": {},
     "output_type": "execute_result"
    }
   ],
   "source": [
    "len (sdf[sdf['NHD_NAME']=='Midtown'])"
   ]
  },
  {
   "cell_type": "code",
   "execution_count": null,
   "metadata": {},
   "outputs": [],
   "source": []
  }
 ],
 "metadata": {
  "kernelspec": {
   "display_name": "Python 3",
   "language": "python",
   "name": "python3"
  },
  "language_info": {
   "codemirror_mode": {
    "name": "ipython",
    "version": 3
   },
   "file_extension": ".py",
   "mimetype": "text/x-python",
   "name": "python",
   "nbconvert_exporter": "python",
   "pygments_lexer": "ipython3",
   "version": "3.6.5"
  }
 },
 "nbformat": 4,
 "nbformat_minor": 2
}
