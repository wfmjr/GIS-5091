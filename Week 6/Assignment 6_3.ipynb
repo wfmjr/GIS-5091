{
 "cells": [
  {
   "cell_type": "code",
   "execution_count": 1,
   "metadata": {},
   "outputs": [],
   "source": [
    "from arcgis.gis import GIS"
   ]
  },
  {
   "cell_type": "code",
   "execution_count": 2,
   "metadata": {},
   "outputs": [
    {
     "name": "stdout",
     "output_type": "stream",
     "text": [
      "Enter password: ········\n"
     ]
    }
   ],
   "source": [
    "gis = GIS('http://slustl.maps.arcgis.com/home', 'wfmjr68')"
   ]
  },
  {
   "cell_type": "code",
   "execution_count": 3,
   "metadata": {},
   "outputs": [
    {
     "data": {
      "text/plain": [
       "[<Item title:\"Pittsburgh Crime\" type:Web Map owner:wfmjr68>,\n",
       " <Item title:\"Ebola Virus Outbreak\" type:Feature Layer Collection owner:wfmjr68>,\n",
       " <Item title:\"Ebola Virus Outbreak\" type:GeoJson owner:wfmjr68>,\n",
       " <Item title:\"Ebola Virus Outbreak\" type:Web Map owner:wfmjr68>,\n",
       " <Item title:\"chennai-rainfall\" type:CSV owner:wfmjr68>,\n",
       " <Item title:\"chennai-rainfall\" type:Feature Layer Collection owner:wfmjr68>,\n",
       " <Item title:\"Thunder_Acquisitions_wfm\" type:CSV owner:wfmjr68>,\n",
       " <Item title:\"Thunder_Departures_wfm\" type:CSV owner:wfmjr68>,\n",
       " <Item title:\"Thunder_Acquisitions_wfm\" type:Feature Layer Collection owner:wfmjr68>,\n",
       " <Item title:\"Thunder_Departures_wfm\" type:Feature Layer Collection owner:wfmjr68>,\n",
       " <Item title:\"Thunder Basketball Player Transactions\" type:Web Map owner:wfmjr68>]"
      ]
     },
     "execution_count": 3,
     "metadata": {},
     "output_type": "execute_result"
    }
   ],
   "source": [
    "gis.users.me.items()"
   ]
  },
  {
   "cell_type": "code",
   "execution_count": 4,
   "metadata": {},
   "outputs": [
    {
     "data": {
      "text/plain": [
       "'public'"
      ]
     },
     "execution_count": 4,
     "metadata": {},
     "output_type": "execute_result"
    }
   ],
   "source": [
    "pittsburgh_crime = gis.content.get('09e3e200e38544cf9ddd21b9a7056bd8')\n",
    "pittsburgh_crime.access"
   ]
  },
  {
   "cell_type": "code",
   "execution_count": 9,
   "metadata": {},
   "outputs": [
    {
     "ename": "NameError",
     "evalue": "name 'group' is not defined",
     "output_type": "error",
     "traceback": [
      "\u001b[1;31m---------------------------------------------------------------------------\u001b[0m",
      "\u001b[1;31mNameError\u001b[0m                                 Traceback (most recent call last)",
      "\u001b[1;32m<ipython-input-9-0c01e01b3933>\u001b[0m in \u001b[0;36m<module>\u001b[1;34m()\u001b[0m\n\u001b[1;32m----> 1\u001b[1;33m \u001b[0mpittsburgh_crime\u001b[0m\u001b[1;33m.\u001b[0m\u001b[0mshare\u001b[0m\u001b[1;33m(\u001b[0m\u001b[0mgroups\u001b[0m\u001b[1;33m=\u001b[0m\u001b[0mgroup\u001b[0m\u001b[1;33m.\u001b[0m\u001b[0mid\u001b[0m\u001b[1;33m)\u001b[0m\u001b[1;33m\u001b[0m\u001b[0m\n\u001b[0m",
      "\u001b[1;31mNameError\u001b[0m: name 'group' is not defined"
     ]
    }
   ],
   "source": [
    "pittsburgh_crime.share(groups=group.id)"
   ]
  },
  {
   "cell_type": "code",
   "execution_count": null,
   "metadata": {},
   "outputs": [],
   "source": []
  }
 ],
 "metadata": {
  "kernelspec": {
   "display_name": "Python 3",
   "language": "python",
   "name": "python3"
  },
  "language_info": {
   "codemirror_mode": {
    "name": "ipython",
    "version": 3
   },
   "file_extension": ".py",
   "mimetype": "text/x-python",
   "name": "python",
   "nbconvert_exporter": "python",
   "pygments_lexer": "ipython3",
   "version": "3.6.5"
  }
 },
 "nbformat": 4,
 "nbformat_minor": 2
}
