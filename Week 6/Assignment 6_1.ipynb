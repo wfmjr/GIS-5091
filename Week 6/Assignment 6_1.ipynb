{
 "cells": [
  {
   "cell_type": "code",
   "execution_count": 8,
   "metadata": {},
   "outputs": [],
   "source": [
    "csv_file1 = 'Thunder_Acquisitions_wfm.csv'\n",
    "csv_file2 = 'Thunder_Departures_wfm.csv'"
   ]
  },
  {
   "cell_type": "code",
   "execution_count": 1,
   "metadata": {},
   "outputs": [],
   "source": [
    "from arcgis.gis import GIS\n",
    "from arcgis.mapping import WebMap\n",
    "empty_webmap = WebMap()"
   ]
  },
  {
   "cell_type": "code",
   "execution_count": 2,
   "metadata": {},
   "outputs": [
    {
     "name": "stdout",
     "output_type": "stream",
     "text": [
      "Enter password: ········\n"
     ]
    }
   ],
   "source": [
    "gis = GIS('http://slustl.maps.arcgis.com/home', 'wfmjr68')"
   ]
  },
  {
   "cell_type": "code",
   "execution_count": 3,
   "metadata": {},
   "outputs": [
    {
     "data": {
      "application/vnd.jupyter.widget-view+json": {
       "model_id": "eabd0a59b630461bab1b2efde4de4348",
       "version_major": 2,
       "version_minor": 0
      },
      "text/plain": [
       "MapView(basemaps=['dark-gray', 'dark-gray-vector', 'gray', 'gray-vector', 'hybrid', 'national-geographic', 'oc…"
      ]
     },
     "metadata": {},
     "output_type": "display_data"
    }
   ],
   "source": [
    "usa_map = gis.map('USA', zoomlevel=3)\n",
    "usa_map"
   ]
  },
  {
   "cell_type": "code",
   "execution_count": 9,
   "metadata": {},
   "outputs": [
    {
     "ename": "NameError",
     "evalue": "name 'Thunder_Departures_wfm' is not defined",
     "output_type": "error",
     "traceback": [
      "\u001b[1;31m---------------------------------------------------------------------------\u001b[0m",
      "\u001b[1;31mNameError\u001b[0m                                 Traceback (most recent call last)",
      "\u001b[1;32m<ipython-input-9-d7ea0ae9d3b7>\u001b[0m in \u001b[0;36m<module>\u001b[1;34m()\u001b[0m\n\u001b[0;32m     30\u001b[0m }\n\u001b[0;32m     31\u001b[0m \u001b[1;33m\u001b[0m\u001b[0m\n\u001b[1;32m---> 32\u001b[1;33m \u001b[0musa_map\u001b[0m\u001b[1;33m.\u001b[0m\u001b[0madd_layer\u001b[0m\u001b[1;33m(\u001b[0m\u001b[0mThunder_Departures_wfm\u001b[0m\u001b[1;33m,\u001b[0m\u001b[0mcsv\u001b[0m\u001b[1;33m,\u001b[0m \u001b[0msimple_renderer\u001b[0m\u001b[1;33m)\u001b[0m\u001b[1;33m\u001b[0m\u001b[0m\n\u001b[0m",
      "\u001b[1;31mNameError\u001b[0m: name 'Thunder_Departures_wfm' is not defined"
     ]
    }
   ],
   "source": [
    "simple_renderer = {\n",
    "  \"renderer\": {\n",
    "    \"type\": \"simple\",\n",
    "    \"symbol\": {\n",
    "      \"color\": [\n",
    "        0,\n",
    "        0,\n",
    "        128,\n",
    "        128\n",
    "      ],\n",
    "      \"size\": 15,\n",
    "      \"angle\": 0,\n",
    "      \"xoffset\": 0,\n",
    "      \"yoffset\": 0,\n",
    "      \"type\": \"esriSMS\",\n",
    "      \"style\": \"esriSMSCircle\",\n",
    "      \"outline\": {\n",
    "        \"color\": [\n",
    "          0,\n",
    "          0,\n",
    "          128,\n",
    "          255\n",
    "        ],\n",
    "        \"width\": 0.99975,\n",
    "        \"type\": \"esriSLS\",\n",
    "        \"style\": \"esriSLSSolid\"\n",
    "      }\n",
    "    }\n",
    "  }\n",
    "}\n",
    "\n",
    "usa_map.add_layer(Thunder_Departures_wfm, simple_renderer)"
   ]
  },
  {
   "cell_type": "code",
   "execution_count": 40,
   "metadata": {},
   "outputs": [],
   "source": [
    "usa_map.add_layer(csv_layer1, {\"renderer\":\"ClassedSizeRenderer\", \"field_name\": \"FromLocation\"})\n",
    "usa_map.add_layer(csv_layer2, {\"renderer\":\"ClassedSizeRenderer\", \"field_name\": \"ToLocation\"})"
   ]
  },
  {
   "cell_type": "code",
   "execution_count": 18,
   "metadata": {},
   "outputs": [],
   "source": [
    "csv_item1 = gis.content.add({}, csv_file1)\n",
    "csv_item2 = gis.content.add({}, csv_file2)"
   ]
  },
  {
   "cell_type": "code",
   "execution_count": 19,
   "metadata": {},
   "outputs": [
    {
     "data": {
      "text/plain": [
       "(<Item title:\"Thunder_Acquisitions_wfm\" type:CSV owner:wfmjr68>,\n",
       " <Item title:\"Thunder_Departures_wfm\" type:CSV owner:wfmjr68>)"
      ]
     },
     "execution_count": 19,
     "metadata": {},
     "output_type": "execute_result"
    }
   ],
   "source": [
    "csv_item1, csv_item2"
   ]
  },
  {
   "cell_type": "code",
   "execution_count": 20,
   "metadata": {},
   "outputs": [],
   "source": [
    "csv_layer1 = csv_item1.publish(None, {\"Address\":\"FromLocation\"})\n",
    "csv_layer2 = csv_item2.publish(None, {\"Address\":\"ToLocation\"})"
   ]
  },
  {
   "cell_type": "code",
   "execution_count": 22,
   "metadata": {},
   "outputs": [
    {
     "data": {
      "text/plain": [
       "True"
      ]
     },
     "execution_count": 22,
     "metadata": {},
     "output_type": "execute_result"
    }
   ],
   "source": [
    "empty_webmap.add_layer(csv_layer1, options={'title':'Thunder Acquisitions'})\n",
    "empty_webmap.add_layer(csv_layer2, options={'title':'Thunder Departures'})"
   ]
  },
  {
   "cell_type": "code",
   "execution_count": 23,
   "metadata": {},
   "outputs": [
    {
     "data": {
      "text/html": [
       "<div class=\"item_container\" style=\"height: auto; overflow: hidden; border: 1px solid #cfcfcf; border-radius: 2px; background: #f6fafa; line-height: 1.21429em; padding: 10px;\">\n",
       "                    <div class=\"item_left\" style=\"width: 210px; float: left;\">\n",
       "                       <a href='http://SLUSTL.maps.arcgis.com/home/item.html?id=7790d60aeded4e25bcc82f4d0200c625' target='_blank'>\n",
       "                        <img src='data:image/png;base64,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' width='200' height='133' class=\"itemThumbnail\">\n",
       "                       </a>\n",
       "                    </div>\n",
       "\n",
       "                    <div class=\"item_right\"     style=\"float: none; width: auto; overflow: hidden;\">\n",
       "                        <a href='http://SLUSTL.maps.arcgis.com/home/item.html?id=7790d60aeded4e25bcc82f4d0200c625' target='_blank'><b>Thunder Basketball Player Transactions</b>\n",
       "                        </a>\n",
       "                        <br/>Map created using Python API showing locations of Thunder acquisitions and departures.<img src='http://SLUSTL.maps.arcgis.com/home/js/jsapi/esri/css/images/item_type_icons/maps16.png' style=\"vertical-align:middle;\">Web Map by wfmjr68\n",
       "                        <br/>Last Modified: October 14, 2018\n",
       "                        <br/>0 comments, 0 views\n",
       "                    </div>\n",
       "                </div>\n",
       "                "
      ],
      "text/plain": [
       "<Item title:\"Thunder Basketball Player Transactions\" type:Web Map owner:wfmjr68>"
      ]
     },
     "execution_count": 23,
     "metadata": {},
     "output_type": "execute_result"
    }
   ],
   "source": [
    "webmap_item_properties = {'title':'Thunder Basketball Player Transactions',\n",
    "                         'snippet':'Map created using Python API showing locations of Thunder acquisitions and departures.',\n",
    "                         'tags':['departures', 'acquisitions', 'Thunder', 'NBA', 'Basketball']}\n",
    "\n",
    "empty_webmap.save(webmap_item_properties, thumbnail='http://www.hoops.co.il/wp-content/uploads/2018/08/thunder.jpg')"
   ]
  },
  {
   "cell_type": "code",
   "execution_count": null,
   "metadata": {},
   "outputs": [],
   "source": []
  }
 ],
 "metadata": {
  "kernelspec": {
   "display_name": "Python 3",
   "language": "python",
   "name": "python3"
  },
  "language_info": {
   "codemirror_mode": {
    "name": "ipython",
    "version": 3
   },
   "file_extension": ".py",
   "mimetype": "text/x-python",
   "name": "python",
   "nbconvert_exporter": "python",
   "pygments_lexer": "ipython3",
   "version": "3.6.5"
  }
 },
 "nbformat": 4,
 "nbformat_minor": 2
}
