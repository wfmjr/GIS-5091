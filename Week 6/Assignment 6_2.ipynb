{
 "cells": [
  {
   "cell_type": "code",
   "execution_count": 16,
   "metadata": {},
   "outputs": [],
   "source": [
    "from arcgis.gis import GIS\n",
    "from IPython.display import display\n",
    "import pandas as pd"
   ]
  },
  {
   "cell_type": "code",
   "execution_count": 17,
   "metadata": {},
   "outputs": [
    {
     "name": "stdout",
     "output_type": "stream",
     "text": [
      "Enter password: ········\n"
     ]
    }
   ],
   "source": [
    "gis = GIS('http://slustl.maps.arcgis.com/home', 'wfmjr68')"
   ]
  },
  {
   "cell_type": "code",
   "execution_count": 18,
   "metadata": {},
   "outputs": [],
   "source": [
    "import csv\n",
    "groups = []\n",
    "with open('Groups.csv') as csv_file:\n",
    "    reader = csv.DictReader(csv_file)\n",
    "    for row in reader:\n",
    "        group = gis.groups.create_from_dict(row)\n",
    "        groups.append(group)"
   ]
  },
  {
   "cell_type": "code",
   "execution_count": 19,
   "metadata": {},
   "outputs": [
    {
     "data": {
      "text/html": [
       "<div class=\"9item_container\" style=\"height: auto; overflow: hidden; border: 1px solid #cfcfcf; border-radius: 2px; background: #f6fafa; line-height: 1.21429em; padding: 10px;\">\n",
       "                    <div class=\"item_left\" style=\"width: 210px; float: left;\">\n",
       "                       <a href='http://SLUSTL.maps.arcgis.com/home/group.html?id=61e5f9e4ba04464a914853e57eab21b8' target='_blank'>\n",
       "                        <img src='data:image/png;base64,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' ' class=\"itemThumbnail\">\n",
       "                       </a>\n",
       "                    </div>\n",
       "\n",
       "                    <div class=\"item_right\" style=\"float: none; width: auto; overflow: hidden;\">\n",
       "                        <a href='http://SLUSTL.maps.arcgis.com/home/group.html?id=61e5f9e4ba04464a914853e57eab21b8' target='_blank'><b>Wayne_Webmaps</b>\n",
       "                        </a>\n",
       "                        <br/>\n",
       "                        <br/><b>Summary</b>: Class assignment webmaps\n",
       "                        <br/><b>Description</b>: This group is for created webmaps\n",
       "                        <br/><b>Owner</b>: wfmjr68\n",
       "                        <br/><b>Created</b>: October 14, 2018\n",
       "\n",
       "                    </div>\n",
       "                </div>\n",
       "                "
      ],
      "text/plain": [
       "<Group title:\"Wayne_Webmaps\" owner:wfmjr68>"
      ]
     },
     "metadata": {},
     "output_type": "display_data"
    },
    {
     "data": {
      "text/html": [
       "<div class=\"9item_container\" style=\"height: auto; overflow: hidden; border: 1px solid #cfcfcf; border-radius: 2px; background: #f6fafa; line-height: 1.21429em; padding: 10px;\">\n",
       "                    <div class=\"item_left\" style=\"width: 210px; float: left;\">\n",
       "                       <a href='http://SLUSTL.maps.arcgis.com/home/group.html?id=8b194b1a30e144b4aff643f9465626b4' target='_blank'>\n",
       "                        <img src='data:image/png;base64,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' ' class=\"itemThumbnail\">\n",
       "                       </a>\n",
       "                    </div>\n",
       "\n",
       "                    <div class=\"item_right\" style=\"float: none; width: auto; overflow: hidden;\">\n",
       "                        <a href='http://SLUSTL.maps.arcgis.com/home/group.html?id=8b194b1a30e144b4aff643f9465626b4' target='_blank'><b>Wayne_Feature_Service</b>\n",
       "                        </a>\n",
       "                        <br/>\n",
       "                        <br/><b>Summary</b>: Class assignment feature services\n",
       "                        <br/><b>Description</b>: This group is for feature services\n",
       "                        <br/><b>Owner</b>: wfmjr68\n",
       "                        <br/><b>Created</b>: October 14, 2018\n",
       "\n",
       "                    </div>\n",
       "                </div>\n",
       "                "
      ],
      "text/plain": [
       "<Group title:\"Wayne_Feature_Service\" owner:wfmjr68>"
      ]
     },
     "metadata": {},
     "output_type": "display_data"
    },
    {
     "data": {
      "text/html": [
       "<div class=\"9item_container\" style=\"height: auto; overflow: hidden; border: 1px solid #cfcfcf; border-radius: 2px; background: #f6fafa; line-height: 1.21429em; padding: 10px;\">\n",
       "                    <div class=\"item_left\" style=\"width: 210px; float: left;\">\n",
       "                       <a href='http://SLUSTL.maps.arcgis.com/home/group.html?id=dc034b78b2e84460a9f165b94ad6cc90' target='_blank'>\n",
       "                        <img src='data:image/png;base64,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' ' class=\"itemThumbnail\">\n",
       "                       </a>\n",
       "                    </div>\n",
       "\n",
       "                    <div class=\"item_right\" style=\"float: none; width: auto; overflow: hidden;\">\n",
       "                        <a href='http://SLUSTL.maps.arcgis.com/home/group.html?id=dc034b78b2e84460a9f165b94ad6cc90' target='_blank'><b>Wayne_All_Content</b>\n",
       "                        </a>\n",
       "                        <br/>\n",
       "                        <br/><b>Summary</b>: Class assignment all content\n",
       "                        <br/><b>Description</b>: This group is for all content\n",
       "                        <br/><b>Owner</b>: wfmjr68\n",
       "                        <br/><b>Created</b>: October 14, 2018\n",
       "\n",
       "                    </div>\n",
       "                </div>\n",
       "                "
      ],
      "text/plain": [
       "<Group title:\"Wayne_All_Content\" owner:wfmjr68>"
      ]
     },
     "metadata": {},
     "output_type": "display_data"
    }
   ],
   "source": [
    "for group in groups:\n",
    "    display(group)"
   ]
  },
  {
   "cell_type": "code",
   "execution_count": 33,
   "metadata": {},
   "outputs": [
    {
     "data": {
      "text/plain": [
       "'private'"
      ]
     },
     "execution_count": 33,
     "metadata": {},
     "output_type": "execute_result"
    }
   ],
   "source": [
    "thunder = gis.content.get('7790d60aeded4e25bcc82f4d0200c625')\n",
    "thunder.access"
   ]
  },
  {
   "cell_type": "code",
   "execution_count": 34,
   "metadata": {},
   "outputs": [
    {
     "data": {
      "text/plain": [
       "{'notSharedWith': [], 'itemId': '7790d60aeded4e25bcc82f4d0200c625'}"
      ]
     },
     "execution_count": 34,
     "metadata": {},
     "output_type": "execute_result"
    }
   ],
   "source": [
    "thunder.share(groups=group.id)"
   ]
  },
  {
   "cell_type": "code",
   "execution_count": null,
   "metadata": {},
   "outputs": [],
   "source": []
  }
 ],
 "metadata": {
  "kernelspec": {
   "display_name": "Python 3",
   "language": "python",
   "name": "python3"
  },
  "language_info": {
   "codemirror_mode": {
    "name": "ipython",
    "version": 3
   },
   "file_extension": ".py",
   "mimetype": "text/x-python",
   "name": "python",
   "nbconvert_exporter": "python",
   "pygments_lexer": "ipython3",
   "version": "3.6.5"
  }
 },
 "nbformat": 4,
 "nbformat_minor": 2
}
